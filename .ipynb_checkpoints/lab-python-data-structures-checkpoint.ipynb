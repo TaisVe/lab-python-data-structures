{
 "cells": [
  {
   "cell_type": "markdown",
   "metadata": {
    "tags": []
   },
   "source": [
    "# Lab | Data Structures "
   ]
  },
  {
   "cell_type": "markdown",
   "metadata": {},
   "source": [
    "## Exercise: Managing Customer Orders\n",
    "\n",
    "As part of a business venture, you are starting an online store that sells various products. To ensure smooth operations, you need to develop a program that manages customer orders and inventory.\n",
    "\n",
    "Follow the steps below to complete the exercise:\n",
    "\n",
    "1. Define a list called `products` that contains the following items: \"t-shirt\", \"mug\", \"hat\", \"book\", \"keychain\".\n",
    "\n",
    "2. Create an empty dictionary called `inventory`.\n",
    "\n",
    "3. Ask the user to input the quantity of each product available in the inventory. Use the product names from the `products` list as keys in the `inventory` dictionary and assign the respective quantities as values.\n",
    "\n",
    "4. Create an empty set called `customer_orders`.\n",
    "\n",
    "5. Ask the user to input the name of three products that a customer wants to order (from those in the products list, meaning three products out of \"t-shirt\", \"mug\", \"hat\", \"book\" or \"keychain\". Add each product name to the `customer_orders` set.\n",
    "\n",
    "6. Print the products in the `customer_orders` set.\n",
    "\n",
    "7. Calculate the following order statistics:\n",
    "   - Total Products Ordered: The total number of products in the `customer_orders` set.\n",
    "   - Percentage of Products Ordered: The percentage of products ordered compared to the total available products.\n",
    "   \n",
    "   Store these statistics in a tuple called `order_status`.\n",
    "\n",
    "8. Print the order statistics using the following format:\n",
    "   ```\n",
    "   Order Statistics:\n",
    "   Total Products Ordered: <total_products_ordered>\n",
    "   Percentage of Products Ordered: <percentage_ordered>% \n",
    "   ```\n",
    "\n",
    "9. Update the inventory by subtracting 1 from the quantity of each product. Modify the `inventory` dictionary accordingly.\n",
    "\n",
    "10. Print the updated inventory, displaying the quantity of each product on separate lines.\n",
    "\n",
    "Solve the exercise by implementing the steps using the Python concepts of lists, dictionaries, sets, and basic input/output operations. "
   ]
  },
  {
   "cell_type": "code",
   "execution_count": 3,
   "metadata": {},
   "outputs": [],
   "source": [
    "#Define a list called products that contains the following items: \"t-shirt\", \"mug\", \"hat\", \"book\", \"keychain\".\n",
    "products=[\"t-shirt\", \"mug\", \"hat\", \"book\", \"keychain\"]"
   ]
  },
  {
   "cell_type": "code",
   "execution_count": 4,
   "metadata": {},
   "outputs": [],
   "source": [
    "#Create an empty dictionary called inventory.\n",
    "inventory={}"
   ]
  },
  {
   "cell_type": "code",
   "execution_count": 5,
   "metadata": {},
   "outputs": [
    {
     "name": "stdin",
     "output_type": "stream",
     "text": [
      "Enter amount of t-shirt in the inventory: 8\n",
      "Enter amount of mug in the inventory: 9\n",
      "Enter amount of hat in the inventory: 4\n",
      "Enter amount of book in the inventory: 7\n",
      "Enter amount of keychain in the inventory: 8\n"
     ]
    }
   ],
   "source": [
    "#Ask the user to input the quantity of each product available in the inventory. \n",
    "amount_tshirt= int(input(\"Enter amount of t-shirt in the inventory:\"))\n",
    "amount_mug= int(input(\"Enter amount of mug in the inventory:\"))\n",
    "amount_hat= int(input(\"Enter amount of hat in the inventory:\"))\n",
    "amount_book= int(input(\"Enter amount of book in the inventory:\"))\n",
    "amount_keychain= int(input(\"Enter amount of keychain in the inventory:\"))"
   ]
  },
  {
   "cell_type": "code",
   "execution_count": 6,
   "metadata": {},
   "outputs": [
    {
     "name": "stdout",
     "output_type": "stream",
     "text": [
      "[8, 9, 4, 7, 8]\n"
     ]
    }
   ],
   "source": [
    "quantity_products=[amount_tshirt,amount_mug,amount_hat,amount_book,amount_keychain]\n",
    "print(quantity_products)"
   ]
  },
  {
   "cell_type": "code",
   "execution_count": 7,
   "metadata": {},
   "outputs": [
    {
     "name": "stdout",
     "output_type": "stream",
     "text": [
      "{'t-shirt': 8, 'mug': 9, 'hat': 4, 'book': 7, 'keychain': 8}\n"
     ]
    }
   ],
   "source": [
    "inventory = dict(zip(products, quantity_products))\n",
    "print(inventory)"
   ]
  },
  {
   "cell_type": "code",
   "execution_count": 8,
   "metadata": {},
   "outputs": [],
   "source": [
    "#Create an empty set called customer_orders.\n",
    "customer_order=[]"
   ]
  },
  {
   "cell_type": "code",
   "execution_count": 9,
   "metadata": {},
   "outputs": [
    {
     "name": "stdin",
     "output_type": "stream",
     "text": [
      "What 3 products do you want to buy?(select one) t-shirt, mug, hat, book, keychain. mug\n",
      "What 3 products do you want to buy?(select one) t-shirt, mug, hat, book, keychain. hat\n",
      "What 3 products do you want to buy?(select one) t-shirt, mug, hat, book, keychain. book\n"
     ]
    }
   ],
   "source": [
    "#Ask the user to input the name of three products that a customer wants to order (from those in the products list, meaning three products out of \"t-shirt\", \"mug\", \"hat\", \"book\" or \"keychain\". Add each product name to the customer_orders set.\n",
    "order1=input(\"What 3 products do you want to buy?(select one) t-shirt, mug, hat, book, keychain.\")\n",
    "customer_order.append(order1)\n",
    "order2=input(\"What 3 products do you want to buy?(select one) t-shirt, mug, hat, book, keychain.\")\n",
    "customer_order.append(order2)\n",
    "order3=input(\"What 3 products do you want to buy?(select one) t-shirt, mug, hat, book, keychain.\")\n",
    "customer_order.append(order3)"
   ]
  },
  {
   "cell_type": "code",
   "execution_count": 10,
   "metadata": {},
   "outputs": [
    {
     "name": "stdout",
     "output_type": "stream",
     "text": [
      "['mug', 'hat', 'book']\n"
     ]
    },
    {
     "name": "stdin",
     "output_type": "stream",
     "text": [
      "Enter amount of t-shirt the customer ordered: 0\n",
      "Enter amount of mug the customer ordered: 1\n",
      "Enter amount of hat the customer ordered: 1\n",
      "Enter amount of book the customer ordered: 1\n",
      "Enter amount of keychain the customer ordered: 0\n"
     ]
    }
   ],
   "source": [
    "#Print the products in the customer_orders set.\n",
    "print(customer_order)\n",
    "amount_tshirt_c= int(input(\"Enter amount of t-shirt the customer ordered:\"))\n",
    "amount_mug_c= int(input(\"Enter amount of mug the customer ordered:\"))\n",
    "amount_hat_c= int(input(\"Enter amount of hat the customer ordered:\"))\n",
    "amount_book_c= int(input(\"Enter amount of book the customer ordered:\"))\n",
    "amount_keychain_c= int(input(\"Enter amount of keychain the customer ordered:\"))"
   ]
  },
  {
   "cell_type": "code",
   "execution_count": 11,
   "metadata": {},
   "outputs": [
    {
     "name": "stdout",
     "output_type": "stream",
     "text": [
      "[0, 1, 1, 1, 0]\n",
      "{'t-shirt': 0, 'mug': 1, 'hat': 1, 'book': 1, 'keychain': 0}\n"
     ]
    }
   ],
   "source": [
    "cust_order_quant=[amount_tshirt_c,amount_mug_c,amount_hat_c,amount_book_c,amount_keychain_c]\n",
    "print(cust_order_quant)\n",
    "dic_customer_order = dict(zip(products,cust_order_quant))\n",
    "print(dic_customer_order)"
   ]
  },
  {
   "cell_type": "code",
   "execution_count": 16,
   "metadata": {},
   "outputs": [
    {
     "name": "stdout",
     "output_type": "stream",
     "text": [
      "5\n"
     ]
    }
   ],
   "source": [
    "#Total Products Ordered: The total number of products in the customer_orders set.\n",
    "invent_quantity=len(products)\n",
    "print(invent_quantity)"
   ]
  },
  {
   "cell_type": "code",
   "execution_count": 18,
   "metadata": {},
   "outputs": [
    {
     "name": "stdout",
     "output_type": "stream",
     "text": [
      "60.0\n"
     ]
    }
   ],
   "source": [
    "#Percentage of Products Ordered: The percentage of products ordered compared to the total available products.\n",
    "quant_order=len(customer_order)\n",
    "percentage_orders=(quant_order/invent_quantity)*100\n",
    "print(percentage_orders)"
   ]
  },
  {
   "cell_type": "code",
   "execution_count": 19,
   "metadata": {},
   "outputs": [],
   "source": [
    "#Store these statistics in a tuple called order_status.\n",
    "order_status=(customer_order,percentage_orders)"
   ]
  },
  {
   "cell_type": "code",
   "execution_count": 20,
   "metadata": {},
   "outputs": [
    {
     "name": "stdout",
     "output_type": "stream",
     "text": [
      "Order Statistics:\n",
      "Total Products Ordered: 3\n",
      "Percentage of Products Ordered: 5\n"
     ]
    }
   ],
   "source": [
    "#Print the order statistics using the following format:\n",
    "print(\"Order Statistics:\")\n",
    "print(f\"Total Products Ordered: {quant_order}\")\n",
    "print(f\"Percentage of Products Ordered: {invent_quantity}\")"
   ]
  },
  {
   "cell_type": "code",
   "execution_count": 21,
   "metadata": {},
   "outputs": [],
   "source": [
    "#Update the inventory by subtracting 1 from the quantity of each product. Modify the inventory dictionary accordingly.\n",
    "inventory[products[0]]-= amount_tshirt_c\n",
    "inventory[products[1]]-= amount_mug_c\n",
    "inventory[products[2]]-= amount_hat_c\n",
    "inventory[products[3]]-= amount_book_c\n",
    "inventory[products[4]]-= amount_keychain_c"
   ]
  },
  {
   "cell_type": "code",
   "execution_count": 22,
   "metadata": {},
   "outputs": [
    {
     "name": "stdout",
     "output_type": "stream",
     "text": [
      "t-shirt 8\n",
      "mug 8\n",
      "hat 3\n",
      "book 6\n",
      "keychain 8\n"
     ]
    }
   ],
   "source": [
    "#Print the updated inventory, displaying the quantity of each product on separate lines.\n",
    "for keys,values in inventory.items():\n",
    "    print(keys, values)"
   ]
  },
  {
   "cell_type": "code",
   "execution_count": null,
   "metadata": {},
   "outputs": [],
   "source": []
  }
 ],
 "metadata": {
  "kernelspec": {
   "display_name": "Python 3 (ipykernel)",
   "language": "python",
   "name": "python3"
  },
  "language_info": {
   "codemirror_mode": {
    "name": "ipython",
    "version": 3
   },
   "file_extension": ".py",
   "mimetype": "text/x-python",
   "name": "python",
   "nbconvert_exporter": "python",
   "pygments_lexer": "ipython3",
   "version": "3.11.7"
  }
 },
 "nbformat": 4,
 "nbformat_minor": 4
}
